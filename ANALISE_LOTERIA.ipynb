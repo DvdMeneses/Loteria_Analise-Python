{
  "nbformat": 4,
  "nbformat_minor": 0,
  "metadata": {
    "colab": {
      "provenance": []
    },
    "kernelspec": {
      "name": "python3",
      "display_name": "Python 3"
    },
    "language_info": {
      "name": "python"
    }
  },
  "cells": [
    {
      "cell_type": "code",
      "source": [
        "!pip pandas\n"
      ],
      "metadata": {
        "id": "afjn-nHIlBEh"
      },
      "execution_count": null,
      "outputs": []
    },
    {
      "cell_type": "code",
      "execution_count": 13,
      "metadata": {
        "colab": {
          "base_uri": "https://localhost:8080/"
        },
        "id": "3R2ZJlDekwXL",
        "outputId": "8cef0ab6-f8b9-4b95-f9f9-986567cb5736"
      },
      "outputs": [
        {
          "output_type": "stream",
          "name": "stdout",
          "text": [
            "Informações salvas em 'informacoes_concurso.csv'.\n"
          ]
        }
      ],
      "source": [
        "import requests\n",
        "from bs4 import BeautifulSoup as soup\n",
        "import pandas as pd\n",
        "\n",
        "# Função para buscar informações sobre um concurso da Mega-Sena e salvar em um arquivo CSV\n",
        "def obter_informacoes_concurso_e_salvar_csv(numero_do_concurso):\n",
        "    # URL da página que você deseja raspar\n",
        "    url = 'https://www.loteriaseresultados.com.br/megasena/resultado/{numero_do_concurso}'\n",
        "    html = requests.get(url).text\n",
        "    soupPage = soup(html, 'lxml')\n",
        "\n",
        "    # Encontre todas as tags \"span\" com a classe específica que contém os números das bolas\n",
        "    spanList = soupPage.findAll(\"span\", class_=\"white--text font-weight-bold\")\n",
        "\n",
        "    # Criar uma lista para armazenar os números das bolas sorteadas\n",
        "    numeros_bolas = []\n",
        "\n",
        "    # Iterar sobre as bolas e extrair os números\n",
        "    for i in spanList:\n",
        "        numero = i.text.strip()\n",
        "        numeros_bolas.append(numero)\n",
        "\n",
        "    # Juntar os números em uma única string separada por ponto e vírgula\n",
        "    bolas_sorteadas = ';'.join(numeros_bolas)\n",
        "\n",
        "    # Carregar o DataFrame a partir do arquivo Excel\n",
        "    df = pd.read_excel('Mega-Sena.xlsx')\n",
        "\n",
        "    # Filtrar o DataFrame para encontrar o concurso desejado\n",
        "    concurso_desejado = df[df['Concurso'] == numero_do_concurso]\n",
        "\n",
        "    if not concurso_desejado.empty:\n",
        "        # Acessar as informações do concurso desejado\n",
        "        informacoes_do_concurso = concurso_desejado.iloc[0]\n",
        "        ganhadores_6_acertos = informacoes_do_concurso['Ganhadores 6 acertos']\n",
        "        cidade_uf = informacoes_do_concurso['Cidade / UF']\n",
        "        rateio_6_acertos = informacoes_do_concurso['Rateio 6 acertos']\n",
        "        acumulado_6_acertos = informacoes_do_concurso['Acumulado 6 acertos']\n",
        "\n",
        "        # Criar um dicionário com as informações\n",
        "        dados_concurso = {\n",
        "            \"Concurso\": numero_do_concurso,\n",
        "            \"Bolas Sorteadas\": bolas_sorteadas,\n",
        "            \"6 acertos\": ganhadores_6_acertos,\n",
        "            \"Cidade / UF\": cidade_uf,\n",
        "            \"Rateio 6 acertos\": rateio_6_acertos,\n",
        "            \"Acumulado 6 acertos\": acumulado_6_acertos\n",
        "        }\n",
        "\n",
        "        # Criar um DataFrame a partir do dicionário\n",
        "        df_resultado = pd.DataFrame([dados_concurso])\n",
        "\n",
        "        # Salvar o DataFrame em um arquivo CSV\n",
        "        df_resultado.to_csv('informacoes_concurso.csv', index=False)\n",
        "        print(\"Informações salvas em 'informacoes_concurso.csv'.\")\n",
        "    else:\n",
        "        print(f\"Concurso {numero_do_concurso} não encontrado.\")\n",
        "\n",
        "\n",
        "concurso_desejado = 3 # Substitua pelo número do concurso desejado\n",
        "\n",
        "\n",
        "obter_informacoes_concurso_e_salvar_csv(concurso_desejado)\n"
      ]
    }
  ]
}